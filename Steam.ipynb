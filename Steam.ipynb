{
 "cells": [
  {
   "cell_type": "code",
   "execution_count": 1,
   "metadata": {},
   "outputs": [],
   "source": [
    "import gpt_2_simple as gpt2"
   ]
  },
  {
   "cell_type": "code",
   "execution_count": 2,
   "metadata": {},
   "outputs": [],
   "source": [
    "session=gpt2.start_tf_sess()"
   ]
  },
  {
   "cell_type": "code",
   "execution_count": 3,
   "metadata": {},
   "outputs": [
    {
     "name": "stderr",
     "output_type": "stream",
     "text": [
      "2023-12-20 08:57:44.428299: I tensorflow/compiler/mlir/mlir_graph_optimization_pass.cc:388] MLIR V1 optimization pass is not enabled\n"
     ]
    },
    {
     "name": "stdout",
     "output_type": "stream",
     "text": [
      "Loading checkpoint checkpoint/steam/model-35\n",
      "INFO:tensorflow:Restoring parameters from checkpoint/steam/model-35\n",
      "Loading dataset...\n"
     ]
    },
    {
     "name": "stderr",
     "output_type": "stream",
     "text": [
      "100%|██████████| 1/1 [00:00<00:00, 1524.65it/s]"
     ]
    },
    {
     "name": "stdout",
     "output_type": "stream",
     "text": [
      "dataset has 1847 tokens\n",
      "Training...\n"
     ]
    },
    {
     "name": "stderr",
     "output_type": "stream",
     "text": [
      "\n"
     ]
    },
    {
     "name": "stdout",
     "output_type": "stream",
     "text": [
      "[36 | 18.71] loss=0.04 avg=0.04\n",
      "[37 | 36.11] loss=0.09 avg=0.06\n",
      "[38 | 51.22] loss=0.03 avg=0.05\n",
      "[39 | 66.59] loss=0.03 avg=0.05\n",
      "[40 | 82.29] loss=0.05 avg=0.05\n",
      "[41 | 98.34] loss=0.04 avg=0.05\n",
      "[42 | 113.69] loss=0.03 avg=0.04\n",
      "[43 | 128.84] loss=0.03 avg=0.04\n",
      "[44 | 144.25] loss=0.04 avg=0.04\n",
      "[45 | 159.76] loss=0.02 avg=0.04\n",
      "[46 | 174.98] loss=0.03 avg=0.04\n",
      "[47 | 190.42] loss=0.02 avg=0.04\n",
      "[48 | 206.05] loss=0.02 avg=0.03\n",
      "[49 | 221.56] loss=0.03 avg=0.03\n",
      "[50 | 237.05] loss=0.02 avg=0.03\n",
      "[51 | 252.50] loss=0.01 avg=0.03\n",
      "[52 | 268.39] loss=0.01 avg=0.03\n",
      "[53 | 284.32] loss=0.02 avg=0.03\n",
      "[54 | 300.00] loss=0.01 avg=0.03\n",
      "[55 | 315.84] loss=0.02 avg=0.03\n",
      "[56 | 332.68] loss=0.01 avg=0.03\n",
      "[57 | 349.44] loss=0.02 avg=0.03\n",
      "[58 | 365.14] loss=0.02 avg=0.03\n",
      "[59 | 380.91] loss=0.02 avg=0.03\n",
      "[60 | 397.05] loss=0.01 avg=0.03\n",
      "[61 | 413.49] loss=0.01 avg=0.02\n",
      "[62 | 429.56] loss=0.01 avg=0.02\n",
      "[63 | 444.79] loss=0.02 avg=0.02\n",
      "[64 | 459.66] loss=0.01 avg=0.02\n",
      "[65 | 475.10] loss=0.02 avg=0.02\n",
      "[66 | 490.33] loss=0.01 avg=0.02\n",
      "[67 | 505.58] loss=0.01 avg=0.02\n",
      "[68 | 520.33] loss=0.01 avg=0.02\n",
      "[69 | 535.49] loss=0.01 avg=0.02\n",
      "[70 | 550.64] loss=0.01 avg=0.02\n",
      "[71 | 566.52] loss=0.01 avg=0.02\n",
      "[72 | 584.19] loss=0.02 avg=0.02\n",
      "[73 | 601.66] loss=0.01 avg=0.02\n",
      "[74 | 619.67] loss=0.01 avg=0.02\n",
      "[75 | 636.90] loss=0.01 avg=0.02\n",
      "[76 | 654.98] loss=0.02 avg=0.02\n",
      "[77 | 671.48] loss=0.01 avg=0.02\n",
      "[78 | 688.02] loss=0.01 avg=0.02\n",
      "[79 | 704.72] loss=0.01 avg=0.02\n",
      "[80 | 721.89] loss=0.01 avg=0.02\n",
      "[81 | 740.16] loss=0.01 avg=0.02\n",
      "[82 | 758.04] loss=0.01 avg=0.02\n",
      "[83 | 775.31] loss=0.01 avg=0.02\n",
      "[84 | 792.80] loss=0.01 avg=0.02\n",
      "[85 | 810.66] loss=0.01 avg=0.02\n",
      "Saving checkpoint/steam/model-85\n"
     ]
    }
   ],
   "source": [
    "gpt2.finetune(session, \"BKS.txt\", model_name=\"124M\", steps=\"50\", run_name='steam')"
   ]
  }
 ],
 "metadata": {
  "kernelspec": {
   "display_name": "Python 3",
   "language": "python",
   "name": "python3"
  },
  "language_info": {
   "codemirror_mode": {
    "name": "ipython",
    "version": 3
   },
   "file_extension": ".py",
   "mimetype": "text/x-python",
   "name": "python",
   "nbconvert_exporter": "python",
   "pygments_lexer": "ipython3",
   "version": "3.10.8"
  },
  "orig_nbformat": 4,
  "vscode": {
   "interpreter": {
    "hash": "b0fa6594d8f4cbf19f97940f81e996739fb7646882a419484c72d19e05852a7e"
   }
  }
 },
 "nbformat": 4,
 "nbformat_minor": 2
}
