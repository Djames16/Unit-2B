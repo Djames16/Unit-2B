{
 "cells": [
  {
   "cell_type": "code",
   "execution_count": 1,
   "metadata": {},
   "outputs": [],
   "source": [
    "import gpt_2_simple as gpt2"
   ]
  },
  {
   "cell_type": "code",
   "execution_count": 2,
   "metadata": {},
   "outputs": [],
   "source": [
    "session=gpt2.start_tf_sess()"
   ]
  },
  {
   "cell_type": "code",
   "execution_count": 4,
   "metadata": {},
   "outputs": [
    {
     "name": "stderr",
     "output_type": "stream",
     "text": [
      "2023-12-19 10:43:32.252591: I tensorflow/compiler/mlir/mlir_graph_optimization_pass.cc:388] MLIR V1 optimization pass is not enabled\n"
     ]
    },
    {
     "name": "stdout",
     "output_type": "stream",
     "text": [
      "Loading checkpoint models/124M/model.ckpt\n",
      "INFO:tensorflow:Restoring parameters from models/124M/model.ckpt\n",
      "Loading dataset...\n"
     ]
    },
    {
     "name": "stderr",
     "output_type": "stream",
     "text": [
      "100%|██████████| 1/1 [00:00<00:00, 2707.75it/s]"
     ]
    },
    {
     "name": "stdout",
     "output_type": "stream",
     "text": [
      "dataset has 1847 tokens\n",
      "Training...\n"
     ]
    },
    {
     "name": "stderr",
     "output_type": "stream",
     "text": [
      "\n"
     ]
    },
    {
     "name": "stdout",
     "output_type": "stream",
     "text": [
      "[1 | 17.62] loss=3.54 avg=3.54\n",
      "[2 | 34.89] loss=3.14 avg=3.33\n",
      "[3 | 51.53] loss=2.75 avg=3.14\n",
      "[4 | 68.27] loss=2.43 avg=2.96\n",
      "[5 | 85.05] loss=2.10 avg=2.78\n",
      "[6 | 101.30] loss=1.86 avg=2.63\n",
      "[7 | 117.85] loss=1.42 avg=2.45\n",
      "[8 | 133.86] loss=1.29 avg=2.30\n",
      "[9 | 150.37] loss=0.97 avg=2.14\n",
      "[10 | 166.47] loss=0.87 avg=2.01\n",
      "[11 | 183.28] loss=0.59 avg=1.87\n",
      "[12 | 199.42] loss=0.57 avg=1.76\n",
      "[13 | 215.78] loss=0.51 avg=1.66\n",
      "[14 | 232.62] loss=0.25 avg=1.55\n",
      "[15 | 249.05] loss=0.47 avg=1.47\n",
      "[16 | 265.60] loss=0.28 avg=1.39\n",
      "[17 | 282.23] loss=0.14 avg=1.31\n",
      "[18 | 298.58] loss=0.18 avg=1.24\n",
      "[19 | 315.11] loss=0.14 avg=1.18\n",
      "[20 | 331.69] loss=0.08 avg=1.12\n",
      "[21 | 349.05] loss=0.06 avg=1.07\n",
      "[22 | 365.40] loss=0.08 avg=1.02\n",
      "[23 | 381.99] loss=0.07 avg=0.97\n",
      "[24 | 398.33] loss=0.06 avg=0.93\n",
      "[25 | 414.93] loss=0.07 avg=0.89\n",
      "[26 | 431.17] loss=0.04 avg=0.85\n",
      "[27 | 447.80] loss=0.04 avg=0.82\n",
      "[28 | 464.13] loss=0.10 avg=0.79\n",
      "[29 | 481.05] loss=0.09 avg=0.76\n",
      "[30 | 497.54] loss=0.10 avg=0.74\n",
      "[31 | 514.02] loss=0.04 avg=0.71\n",
      "[32 | 530.14] loss=0.09 avg=0.69\n",
      "[33 | 546.53] loss=0.04 avg=0.66\n",
      "[34 | 563.07] loss=0.06 avg=0.64\n",
      "[35 | 579.98] loss=0.02 avg=0.62\n",
      "interrupted\n",
      "Saving checkpoint/steam/model-35\n"
     ]
    }
   ],
   "source": [
    "gpt2.finetune(session, \"BKS.txt\", model_name=\"124M\", steps=\"50\", run_name='steam')"
   ]
  }
 ],
 "metadata": {
  "kernelspec": {
   "display_name": "Python 3",
   "language": "python",
   "name": "python3"
  },
  "language_info": {
   "codemirror_mode": {
    "name": "ipython",
    "version": 3
   },
   "file_extension": ".py",
   "mimetype": "text/x-python",
   "name": "python",
   "nbconvert_exporter": "python",
   "pygments_lexer": "ipython3",
   "version": "3.10.8"
  },
  "orig_nbformat": 4,
  "vscode": {
   "interpreter": {
    "hash": "b0fa6594d8f4cbf19f97940f81e996739fb7646882a419484c72d19e05852a7e"
   }
  }
 },
 "nbformat": 4,
 "nbformat_minor": 2
}
